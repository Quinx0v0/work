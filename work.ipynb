{
 "cells": [
  {
   "cell_type": "code",
   "execution_count": 22,
   "metadata": {},
   "outputs": [
    {
     "name": "stdout",
     "output_type": "stream",
     "text": [
      "3.8.8\n"
     ]
    }
   ],
   "source": [
    "from platform import python_version\n",
    "print(python_version())"
   ]
  },
  {
   "cell_type": "code",
   "execution_count": 23,
   "metadata": {},
   "outputs": [
    {
     "name": "stdout",
     "output_type": "stream",
     "text": [
      "not bad\n"
     ]
    }
   ],
   "source": [
    "print('not bad')"
   ]
  },
  {
   "cell_type": "code",
   "execution_count": 24,
   "metadata": {},
   "outputs": [
    {
     "name": "stdout",
     "output_type": "stream",
     "text": [
      "乘： 36\n"
     ]
    }
   ],
   "source": [
    "print(\"乘：\",6*6)"
   ]
  },
  {
   "cell_type": "code",
   "execution_count": 25,
   "metadata": {},
   "outputs": [
    {
     "ename": "NameError",
     "evalue": "name 'x' is not defined",
     "output_type": "error",
     "traceback": [
      "\u001b[1;31m---------------------------------------------------------------------------\u001b[0m",
      "\u001b[1;31mNameError\u001b[0m                                 Traceback (most recent call last)",
      "\u001b[1;32m<ipython-input-25-378905058b88>\u001b[0m in \u001b[0;36m<module>\u001b[1;34m\u001b[0m\n\u001b[1;32m----> 1\u001b[1;33m \u001b[0mfunc\u001b[0m\u001b[1;33m=\u001b[0m\u001b[1;36m9\u001b[0m\u001b[1;33m*\u001b[0m\u001b[0mx\u001b[0m\u001b[1;33m+\u001b[0m\u001b[1;36m1\u001b[0m\u001b[1;33m\u001b[0m\u001b[1;33m\u001b[0m\u001b[0m\n\u001b[0m\u001b[0;32m      2\u001b[0m \u001b[0mx\u001b[0m\u001b[1;33m=\u001b[0m\u001b[1;36m13\u001b[0m\u001b[1;33m\u001b[0m\u001b[1;33m\u001b[0m\u001b[0m\n\u001b[0;32m      3\u001b[0m \u001b[0mprint\u001b[0m\u001b[1;33m(\u001b[0m\u001b[0mfunc\u001b[0m\u001b[1;33m)\u001b[0m\u001b[1;33m\u001b[0m\u001b[1;33m\u001b[0m\u001b[0m\n",
      "\u001b[1;31mNameError\u001b[0m: name 'x' is not defined"
     ]
    }
   ],
   "source": [
    "func=9*x+1\n",
    "x=13\n",
    "print(func)"
   ]
  },
  {
   "cell_type": "code",
   "execution_count": null,
   "metadata": {},
   "outputs": [
    {
     "name": "stdout",
     "output_type": "stream",
     "text": [
      "monadic_equation= 25.0\n",
      "monadic_equation=25.00\n",
      "monadic_equation={:.2f) 25.0\n"
     ]
    }
   ],
   "source": [
    "x=8.0\n",
    "monadic_equation=3*x+1\n",
    "print(\"monadic_equation=\",monadic_equation)\n",
    "print(\"monadic_equation=%.2f\"%monadic_equation)\n",
    "print(\"monadic_equation={:.2f)\",format(monadic_equation))"
   ]
  },
  {
   "cell_type": "code",
   "execution_count": null,
   "metadata": {},
   "outputs": [
    {
     "name": "stdout",
     "output_type": "stream",
     "text": [
      "The longitude of the qing'hai coordinate is 457.78,and the latitude is 457.7771264.\n"
     ]
    }
   ],
   "source": [
    "city_name=\"qing'hai\"\n",
    "coordinate_longitude=325.2649786\n",
    "coordinate_longitude=457.7771264\n",
    "print(\"The longitude of the qing'hai coordinate is {lon:.2f},and the latitude is {lat}.\".format(lon=coordinate_longitude,lat=coordinate_longitude))"
   ]
  },
  {
   "cell_type": "code",
   "execution_count": null,
   "metadata": {},
   "outputs": [
    {
     "name": "stdout",
     "output_type": "stream",
     "text": [
      "['d', 'e', 'f', 'g', 'h', 'i', 'j', 'k', 'l', 'm']\n",
      "__________________________________________________\n",
      "[3:6]->['g', 'h', 'i']\n",
      "[-3:-1]->['k', 'l']\n",
      "[-3:]->['k', 'l', 'm']\n",
      "[:3]->['d', 'e', 'f']\n",
      "[:]->['d', 'e', 'f', 'g', 'h', 'i', 'j', 'k', 'l', 'm']\n"
     ]
    }
   ],
   "source": [
    "lst_s=list(map(chr,range(100,110)))\n",
    "print(lst_s)\n",
    "print(\"_\"*50)\n",
    "print(\"[3:6]->{}\".format(lst_s[3:6]))\n",
    "print(\"[-3:-1]->{}\".format(lst_s[-3:-1]))\n",
    "print(\"[-3:]->{}\".format(lst_s[-3:]))\n",
    "print(\"[:3]->{}\".format(lst_s[:3]))\n",
    "print(\"[:]->{}\".format(lst_s[:]))"
   ]
  },
  {
   "cell_type": "code",
   "execution_count": 26,
   "metadata": {},
   "outputs": [
    {
     "name": "stdout",
     "output_type": "stream",
     "text": [
      "['d', 'e', 'f', 'g', 'h']\n",
      "__________________________________________________\n",
      "lst_s_2.append(99)->['d', 'e', 'f', 'g', 'h', 99]\n",
      "lst_s_2.append(list(range(50,80,5)))->['d', 'e', 'f', 'g', 'h', 99, [50, 55, 60, 65, 70, 75]]\n",
      "lst_s_2.extend(lst_spechars)->['d', 'e', 'f', 'g', 'h', 99, [50, 55, 60, 65, 70, 75], '*', ')', '*']\n",
      "lst_s_2.count('*')=2\n",
      "lst_s_2.index('e')=1\n",
      "lst_s_2.insert(2,[1000,1200,1500])->['d', 'e', [1000, 1200, 1500], 'f', 'g', 'h', 99, [50, 55, 60, 65, 70, 75], '*', ')', '*']\n",
      "lst_s_2.pop(7)_popup->[50, 55, 60, 65, 70, 75]\n",
      "lst_s_2.pop(7)_retention->['d', 'e', [1000, 1200, 1500], 'f', 'g', 'h', 99, '*', ')', '*']\n",
      "lst_s_2.remove('*')_retention->['d', 'e', [1000, 1200, 1500], 'f', 'g', 'h', 99, ')', '*']\n",
      "list_n_2.sort()->[2, 3, 4, 6, 42, 95]\n"
     ]
    }
   ],
   "source": [
    "lst_s_2=list(map(chr,range(100,105)))\n",
    "print(lst_s_2)\n",
    "print(\"_\"*50)\n",
    "lst_s_2.append(99)\n",
    "print(\"lst_s_2.append(99)->{}\".format(lst_s_2))\n",
    "lst_s_2.append(list(range(50,80,5)))\n",
    "print(\"lst_s_2.append(list(range(50,80,5)))->{}\".format(lst_s_2))\n",
    "lst_spechars=['*',')','*']\n",
    "lst_s_2.extend(lst_spechars)\n",
    "print(\"lst_s_2.extend(lst_spechars)->{}\".format(lst_s_2))\n",
    "print(\"lst_s_2.count('*')={}\".format(lst_s_2.count('*')))\n",
    "print(\"lst_s_2.index('e')={}\".format(lst_s_2.index('e')))\n",
    "lst_s_2.insert(2,[1000,1200,1500])\n",
    "print(\"lst_s_2.insert(2,[1000,1200,1500])->{}\".format(lst_s_2))\n",
    "print(\"lst_s_2.pop(7)_popup->{}\".format(lst_s_2.pop(7)))\n",
    "print(\"lst_s_2.pop(7)_retention->{}\".format(lst_s_2))\n",
    "lst_s_2.remove('*')\n",
    "print(\"lst_s_2.remove('*')_retention->{}\".format(lst_s_2))\n",
    "list_n_2=[2,42,6,95,4,3]\n",
    "list_n_2.sort()\n",
    "print(\"list_n_2.sort()->{}\".format(list_n_2))\n"
   ]
  },
  {
   "cell_type": "code",
   "execution_count": null,
   "metadata": {},
   "outputs": [
    {
     "name": "stdout",
     "output_type": "stream",
     "text": [
      "Help on class map in module builtins:\n",
      "\n",
      "class map(object)\n",
      " |  map(func, *iterables) --> map object\n",
      " |  \n",
      " |  Make an iterator that computes the function using arguments from\n",
      " |  each of the iterables.  Stops when the shortest iterable is exhausted.\n",
      " |  \n",
      " |  Methods defined here:\n",
      " |  \n",
      " |  __getattribute__(self, name, /)\n",
      " |      Return getattr(self, name).\n",
      " |  \n",
      " |  __iter__(self, /)\n",
      " |      Implement iter(self).\n",
      " |  \n",
      " |  __next__(self, /)\n",
      " |      Implement next(self).\n",
      " |  \n",
      " |  __reduce__(...)\n",
      " |      Return state information for pickling.\n",
      " |  \n",
      " |  ----------------------------------------------------------------------\n",
      " |  Static methods defined here:\n",
      " |  \n",
      " |  __new__(*args, **kwargs) from builtins.type\n",
      " |      Create and return a new object.  See help(type) for accurate signature.\n",
      "\n"
     ]
    }
   ],
   "source": [
    "help(map)"
   ]
  },
  {
   "cell_type": "code",
   "execution_count": null,
   "metadata": {},
   "outputs": [
    {
     "name": "stdout",
     "output_type": "stream",
     "text": [
      "['d', 'e', 'f', 'g', 'h', 'i', 'j', 'k', 'l', 'm']\n",
      "___________________________________\n",
      "[0:8:4]->['d', 'h']\n",
      "[::2]->['d', 'f', 'h', 'j', 'l']\n",
      "[7:3:-2]->['k', 'i']\n",
      "[18:3:-2]->['m', 'k', 'i']\n",
      "[7::-2]->['k', 'i', 'g', 'e']\n",
      "[:3:-2]->['m', 'k', 'i']\n"
     ]
    }
   ],
   "source": [
    "print(lst_s)\n",
    "print(\"_\"*35)\n",
    "print(\"[0:8:4]->{}\".format(lst_s[0:8:4]))\n",
    "print(\"[::2]->{}\".format(lst_s[::2]))\n",
    "print(\"[7:3:-2]->{}\".format(lst_s[7:3:-2]))\n",
    "print(\"[18:3:-2]->{}\".format(lst_s[18:3:-2]))\n",
    "print(\"[7::-2]->{}\".format(lst_s[7::-2]))\n",
    "print(\"[:3:-2]->{}\".format(lst_s[:3:-2]))\n"
   ]
  },
  {
   "cell_type": "code",
   "execution_count": null,
   "metadata": {},
   "outputs": [
    {
     "name": "stdout",
     "output_type": "stream",
     "text": [
      "['d', 'e', 'f', 'g', 'h', 'i', 'j', 'k', 'l', 'm']\n",
      "________________________\n",
      "lst_s[8]=14->['d', 'e', 'f', 'g', 'h', 'i', 'j', 'k', 14, 'm']\n",
      "lst_s+[None]*7->['d', 'e', 'f', 'g', 'h', 'i', 'j', 'k', 14, 'm', None, None, None, None, None, None, None]\n",
      "lst_none[7]=2022->['d', 'e', 'f', 'g', 'h', 'i', 'j', 2022, 14, 'm', None, None, None, None, None, None, None]\n",
      "lst_none[-6:-3]=list(range(100,104,2))->['d', 'e', 'f', 'g', 'h', 'i', 'j', 2022, 14, 'm', None, 100, 102, None, None, None]\n",
      "lst_none[1:1]=[0,0,0,12]->['d', 0, 0, 0, 12, 'e', 'f', 'g', 'h', 'i', 'j', 2022, 14, 'm', None, 100, 102, None, None, None]\n",
      "del lst_none[-44:]->[]\n"
     ]
    }
   ],
   "source": [
    "print(lst_s)\n",
    "print(\"_\"*24)\n",
    "lst_s[8]=14 #元素赋值\n",
    "print(\"lst_s[8]=14->{}\".format(lst_s))\n",
    "lst_none=lst_s+[None]*7\n",
    "print(\"lst_s+[None]*7->{}\".format(lst_none))\n",
    "lst_none[7]=2022\n",
    "print(\"lst_none[7]=2022->{}\".format(lst_none))\n",
    "lst_none[-6:-3]=list(range(100,104,2)) #分片赋值\n",
    "print(\"lst_none[-6:-3]=list(range(100,104,2))->{}\".format(lst_none))\n",
    "lst_none[1:1]=[0,0,0,12]\n",
    "print(\"lst_none[1:1]=[0,0,0,12]->{}\".format(lst_none))\n",
    "del lst_none[-44:] #删除元素\n",
    "print(\"del lst_none[-44:]->{}\".format(lst_none))\n"
   ]
  }
 ],
 "metadata": {
  "interpreter": {
   "hash": "4eaf1be304415beee96765ae99c3f893cc8312c7f1196698e6029668e9aeb3e5"
  },
  "kernelspec": {
   "display_name": "Python 3.8.8 64-bit ('base': conda)",
   "language": "python",
   "name": "python3"
  },
  "language_info": {
   "codemirror_mode": {
    "name": "ipython",
    "version": 3
   },
   "file_extension": ".py",
   "mimetype": "text/x-python",
   "name": "python",
   "nbconvert_exporter": "python",
   "pygments_lexer": "ipython3",
   "version": "3.8.8"
  },
  "orig_nbformat": 4
 },
 "nbformat": 4,
 "nbformat_minor": 2
}
